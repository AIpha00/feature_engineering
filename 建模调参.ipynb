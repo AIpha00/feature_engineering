{
 "cells": [
  {
   "cell_type": "code",
   "execution_count": 1,
   "metadata": {},
   "outputs": [],
   "source": [
    "import pandas as pd\n",
    "import numpy as np\n",
    "import warnings\n",
    "warnings.filterwarnings('ignore')"
   ]
  },
  {
   "cell_type": "code",
   "execution_count": 4,
   "metadata": {},
   "outputs": [],
   "source": [
    "###调整数据类型，帮助我们减少数据在内存中占用的空间\n",
    "\n",
    "def reduce_mem_usage(df):\n",
    "    start_mem = df.memory_usage().sum()\n",
    "    print('调整之前占用内存{}'.format(start_mem))\n",
    "    \n",
    "    for col in df.columns:\n",
    "        col_type = df[col].dtype\n",
    "        \n",
    "        if col_type != object:\n",
    "            c_min = df[col].min()\n",
    "            c_max = df[col].max()\n",
    "            if str(col_type)[:3] == 'int':\n",
    "                if c_min > np.iinfo(np.int8).min and c_max < np.iinfo(np.int8).max:\n",
    "                    df[col] = df[col].astype(np.int8)\n",
    "                elif c_min > np.iinfo(np.int16).min and c_max < np.iinfo(np.int16).max:\n",
    "                    df[col] = df[col].astype(np.int16)\n",
    "                elif c_min > np.iinfo(np.int32).min and c_max < np.iinfo(np.int32).max:\n",
    "                    df[col] = df[col].astype(np.int32)\n",
    "                elif c_min > np.iinfo(np.int64).min and c_max < np.iinfo(np.int64).max:\n",
    "                    df[col] = df[col].astype(np.int64)    \n",
    "            else:\n",
    "                if c_min > np.finfo(np.float16).min and c_max < np.finfo(np.float16).max:\n",
    "                    df[col] = df[col].astype(np.float16)\n",
    "                elif c_min > np.finfo(np.float32).min and c_max < np.finfo(np.float32).max:\n",
    "                    df[col] = df[col].astype(np.float32)\n",
    "                else:\n",
    "                    df[col] = df[col].astype(np.float64)\n",
    "        else:\n",
    "            df[col] = df[col].astype('category')\n",
    "    end_mem = df.memory_usage().sum()\n",
    "    print('调整后占用内存{}'.format(end_mem))\n",
    "    return df"
   ]
  },
  {
   "cell_type": "code",
   "execution_count": 6,
   "metadata": {},
   "outputs": [
    {
     "name": "stdout",
     "output_type": "stream",
     "text": [
      "调整之前占用内存55730488\n",
      "调整后占用内存55730488\n"
     ]
    }
   ],
   "source": [
    "sample_feature = reduce_mem_usage(pd.read_csv('data_for_tree.csv'))"
   ]
  },
  {
   "cell_type": "code",
   "execution_count": 7,
   "metadata": {},
   "outputs": [],
   "source": [
    "data =pd.read_csv('data_for_tree.csv')"
   ]
  },
  {
   "cell_type": "code",
   "execution_count": 8,
   "metadata": {},
   "outputs": [
    {
     "name": "stdout",
     "output_type": "stream",
     "text": [
      "<class 'pandas.core.frame.DataFrame'>\n",
      "RangeIndex: 199037 entries, 0 to 199036\n",
      "Data columns (total 35 columns):\n",
      " #   Column               Non-Null Count   Dtype  \n",
      "---  ------               --------------   -----  \n",
      " 0   SaleID               199037 non-null  int64  \n",
      " 1   name                 199037 non-null  int64  \n",
      " 2   model                199036 non-null  float64\n",
      " 3   brand                199037 non-null  int64  \n",
      " 4   bodyType             193039 non-null  float64\n",
      " 5   fuelType             187481 non-null  float64\n",
      " 6   gearbox              191115 non-null  float64\n",
      " 7   power                199037 non-null  int64  \n",
      " 8   kilometer            199037 non-null  float64\n",
      " 9   notRepairedDamage    166748 non-null  float64\n",
      " 10  price                149037 non-null  float64\n",
      " 11  v_0                  199037 non-null  float64\n",
      " 12  v_1                  199037 non-null  float64\n",
      " 13  v_2                  199037 non-null  float64\n",
      " 14  v_3                  199037 non-null  float64\n",
      " 15  v_4                  199037 non-null  float64\n",
      " 16  v_5                  199037 non-null  float64\n",
      " 17  v_6                  199037 non-null  float64\n",
      " 18  v_7                  199037 non-null  float64\n",
      " 19  v_8                  199037 non-null  float64\n",
      " 20  v_9                  199037 non-null  float64\n",
      " 21  v_10                 199037 non-null  float64\n",
      " 22  v_11                 199037 non-null  float64\n",
      " 23  v_12                 199037 non-null  float64\n",
      " 24  v_13                 199037 non-null  float64\n",
      " 25  v_14                 199037 non-null  float64\n",
      " 26  train                199037 non-null  int64  \n",
      " 27  usedTime             183983 non-null  float64\n",
      " 28  brand_amount         199037 non-null  float64\n",
      " 29  brand_price_max      199037 non-null  float64\n",
      " 30  brand_price_min      199037 non-null  float64\n",
      " 31  brand_price_sum      199037 non-null  float64\n",
      " 32  brand_price_std      199037 non-null  float64\n",
      " 33  brand_price_average  199037 non-null  float64\n",
      " 34  power_bin            178911 non-null  float64\n",
      "dtypes: float64(30), int64(5)\n",
      "memory usage: 53.1 MB\n"
     ]
    }
   ],
   "source": [
    "data.info()"
   ]
  },
  {
   "cell_type": "code",
   "execution_count": 9,
   "metadata": {},
   "outputs": [
    {
     "name": "stdout",
     "output_type": "stream",
     "text": [
      "<class 'pandas.core.frame.DataFrame'>\n",
      "RangeIndex: 199037 entries, 0 to 199036\n",
      "Data columns (total 35 columns):\n",
      " #   Column               Non-Null Count   Dtype  \n",
      "---  ------               --------------   -----  \n",
      " 0   SaleID               199037 non-null  int32  \n",
      " 1   name                 199037 non-null  int32  \n",
      " 2   model                199036 non-null  float16\n",
      " 3   brand                199037 non-null  int8   \n",
      " 4   bodyType             193039 non-null  float16\n",
      " 5   fuelType             187481 non-null  float16\n",
      " 6   gearbox              191115 non-null  float16\n",
      " 7   power                199037 non-null  int16  \n",
      " 8   kilometer            199037 non-null  float16\n",
      " 9   notRepairedDamage    166748 non-null  float16\n",
      " 10  price                149037 non-null  float32\n",
      " 11  v_0                  199037 non-null  float16\n",
      " 12  v_1                  199037 non-null  float16\n",
      " 13  v_2                  199037 non-null  float16\n",
      " 14  v_3                  199037 non-null  float16\n",
      " 15  v_4                  199037 non-null  float16\n",
      " 16  v_5                  199037 non-null  float16\n",
      " 17  v_6                  199037 non-null  float16\n",
      " 18  v_7                  199037 non-null  float16\n",
      " 19  v_8                  199037 non-null  float16\n",
      " 20  v_9                  199037 non-null  float16\n",
      " 21  v_10                 199037 non-null  float16\n",
      " 22  v_11                 199037 non-null  float16\n",
      " 23  v_12                 199037 non-null  float16\n",
      " 24  v_13                 199037 non-null  float16\n",
      " 25  v_14                 199037 non-null  float16\n",
      " 26  train                199037 non-null  int8   \n",
      " 27  usedTime             183983 non-null  float16\n",
      " 28  brand_amount         199037 non-null  float16\n",
      " 29  brand_price_max      199037 non-null  float32\n",
      " 30  brand_price_min      199037 non-null  float16\n",
      " 31  brand_price_sum      199037 non-null  float32\n",
      " 32  brand_price_std      199037 non-null  float16\n",
      " 33  brand_price_average  199037 non-null  float16\n",
      " 34  power_bin            178911 non-null  float16\n",
      "dtypes: float16(27), float32(3), int16(1), int32(2), int8(2)\n",
      "memory usage: 14.8 MB\n"
     ]
    }
   ],
   "source": [
    "sample_feature.info()"
   ]
  },
  {
   "cell_type": "code",
   "execution_count": 10,
   "metadata": {},
   "outputs": [],
   "source": [
    "from sklearn.linear_model import LinearRegression\n",
    "\n",
    "model = LinearRegression(normalize=True)\n",
    "\n",
    "# model = model.fit"
   ]
  },
  {
   "cell_type": "code",
   "execution_count": 11,
   "metadata": {},
   "outputs": [],
   "source": [
    "##线性回归 五折交叉验证 模拟真实业务情况\n",
    "\n",
    "continuous_feature_names = [x for x in sample_feature.columns if x not in ['price','brand','model','SaleID', 'name']]\n",
    "\n",
    "sample_feature = sample_feature.dropna().replace('-', 0).reset_index(drop=True)\n",
    "\n",
    "sample_feature['notRepairedDamage'] = sample_feature['notRepairedDamage'].astype(np.float32)\n",
    "\n",
    "train = sample_feature[continuous_feature_names + ['price']]\n",
    "\n",
    "train_X = train[continuous_feature_names]\n",
    "\n",
    "train_y = train['price']"
   ]
  },
  {
   "cell_type": "code",
   "execution_count": 12,
   "metadata": {},
   "outputs": [],
   "source": [
    "model = model.fit(train_X, train_y)"
   ]
  },
  {
   "cell_type": "code",
   "execution_count": 13,
   "metadata": {},
   "outputs": [],
   "source": [
    "import matplotlib.pyplot as plt\n",
    "\n",
    "subsample_index = np.random.randint(low=0, high=len(train_y), size=50)"
   ]
  },
  {
   "cell_type": "code",
   "execution_count": 14,
   "metadata": {},
   "outputs": [
    {
     "name": "stdout",
     "output_type": "stream",
     "text": [
      "The predicted price is obvious different from true price\n"
     ]
    },
    {
     "data": {
      "image/png": "[encoded data removed]",
      "text/plain": [
       "<Figure size 432x288 with 1 Axes>"
      ]
     },
     "metadata": {
      "needs_background": "light"
     },
     "output_type": "display_data"
    }
   ],
   "source": [
    "plt.scatter(train_X['v_9'][subsample_index], train_y[subsample_index], color='black')\n",
    "plt.scatter(train_X['v_9'][subsample_index], model.predict(train_X.loc[subsample_index]), color='blue')\n",
    "plt.xlabel('v_9')\n",
    "plt.ylabel('price')\n",
    "plt.legend(['True Price','Predicted Price'],loc='upper right')\n",
    "print('The predicted price is obvious different from true price')\n",
    "plt.show()"
   ]
  },
  {
   "cell_type": "code",
   "execution_count": 15,
   "metadata": {},
   "outputs": [
    {
     "name": "stdout",
     "output_type": "stream",
     "text": [
      "It is clear to see the price shows a typical exponential distribution\n"
     ]
    },
    {
     "data": {
      "text/plain": [
       "<matplotlib.axes._subplots.AxesSubplot at 0x1238c9390>"
      ]
     },
     "execution_count": 15,
     "metadata": {},
     "output_type": "execute_result"
    },
    {
     "data": {
      "image/png": "[encoded data removed]",
      "text/plain": [
       "<Figure size 1080x360 with 2 Axes>"
      ]
     },
     "metadata": {
      "needs_background": "light"
     },
     "output_type": "display_data"
    }
   ],
   "source": [
    "import seaborn as sns\n",
    "print('It is clear to see the price shows a typical exponential distribution')\n",
    "plt.figure(figsize=(15,5))\n",
    "plt.subplot(1,2,1)\n",
    "sns.distplot(train_y)\n",
    "plt.subplot(1,2,2)\n",
    "sns.distplot(train_y[train_y < np.quantile(train_y, 0.9)])"
   ]
  },
  {
   "cell_type": "code",
   "execution_count": 16,
   "metadata": {},
   "outputs": [],
   "source": [
    "###我们对price(预测值)进行log变换，更符合正态分布\n",
    "train_y_ln = np.log(train_y + 1)"
   ]
  },
  {
   "cell_type": "code",
   "execution_count": 17,
   "metadata": {},
   "outputs": [
    {
     "name": "stdout",
     "output_type": "stream",
     "text": [
      "The transformed price seems like normal distribution\n"
     ]
    },
    {
     "data": {
      "text/plain": [
       "<matplotlib.axes._subplots.AxesSubplot at 0x123eef690>"
      ]
     },
     "execution_count": 17,
     "metadata": {},
     "output_type": "execute_result"
    },
    {
     "data": {
      "image/png": "[encoded data removed]",
      "text/plain": [
       "<Figure size 1080x360 with 2 Axes>"
      ]
     },
     "metadata": {
      "needs_background": "light"
     },
     "output_type": "display_data"
    }
   ],
   "source": [
    "import seaborn as sns\n",
    "print('The transformed price seems like normal distribution')\n",
    "plt.figure(figsize=(15,5))\n",
    "plt.subplot(1,2,1)\n",
    "sns.distplot(train_y_ln)\n",
    "plt.subplot(1,2,2)\n",
    "sns.distplot(train_y_ln[train_y_ln < np.quantile(train_y_ln, 0.9)])"
   ]
  },
  {
   "cell_type": "code",
   "execution_count": 18,
   "metadata": {},
   "outputs": [],
   "source": [
    "model = model.fit(train_X, train_y_ln)"
   ]
  },
  {
   "cell_type": "code",
   "execution_count": 19,
   "metadata": {},
   "outputs": [
    {
     "name": "stdout",
     "output_type": "stream",
     "text": [
      "The predicted price seems normal after np.log transforming\n"
     ]
    },
    {
     "data": {
      "image/png": "[encoded data removed]",
      "text/plain": [
       "<Figure size 432x288 with 1 Axes>"
      ]
     },
     "metadata": {
      "needs_background": "light"
     },
     "output_type": "display_data"
    }
   ],
   "source": [
    "plt.scatter(train_X['v_9'][subsample_index], train_y[subsample_index], color='black')\n",
    "plt.scatter(train_X['v_9'][subsample_index], np.exp(model.predict(train_X.loc[subsample_index])), color='blue')\n",
    "plt.xlabel('v_9')\n",
    "plt.ylabel('price')\n",
    "plt.legend(['True Price','Predicted Price'],loc='upper right')\n",
    "print('The predicted price seems normal after np.log transforming')\n",
    "plt.show()"
   ]
  },
  {
   "cell_type": "code",
   "execution_count": 20,
   "metadata": {},
   "outputs": [
    {
     "name": "stderr",
     "output_type": "stream",
     "text": [
      "[Parallel(n_jobs=1)]: Using backend SequentialBackend with 1 concurrent workers.\n",
      "[Parallel(n_jobs=1)]: Done   5 out of   5 | elapsed:    0.3s finished\n"
     ]
    }
   ],
   "source": [
    "###交叉验证\n",
    "from sklearn.model_selection import cross_val_score\n",
    "from sklearn.metrics import mean_absolute_error, make_scorer\n",
    "\n",
    "def log_transfer(func):\n",
    "    def warpper(y, yhat):\n",
    "        result = func(np.log(y), np.nan_to_num(np.log(yhat)))\n",
    "        return result\n",
    "    return warpper\n",
    "\n",
    "scores = cross_val_score(model, X=train_X, y=train_y, verbose=1, cv=5, scoring=make_scorer(log_transfer(mean_absolute_error)))\n"
   ]
  },
  {
   "cell_type": "code",
   "execution_count": 22,
   "metadata": {},
   "outputs": [
    {
     "name": "stdout",
     "output_type": "stream",
     "text": [
      "AVG:1.3188858032226562\n"
     ]
    }
   ],
   "source": [
    "print('AVG:{}'.format(np.mean(scores)))"
   ]
  },
  {
   "cell_type": "code",
   "execution_count": 23,
   "metadata": {},
   "outputs": [
    {
     "name": "stderr",
     "output_type": "stream",
     "text": [
      "[Parallel(n_jobs=1)]: Using backend SequentialBackend with 1 concurrent workers.\n",
      "[Parallel(n_jobs=1)]: Done   5 out of   5 | elapsed:    0.3s finished\n"
     ]
    }
   ],
   "source": [
    "scores = cross_val_score(model, X=train_X, y=train_y_ln, verbose=1, cv = 5, scoring=make_scorer(mean_absolute_error))"
   ]
  },
  {
   "cell_type": "code",
   "execution_count": 24,
   "metadata": {},
   "outputs": [
    {
     "name": "stdout",
     "output_type": "stream",
     "text": [
      "AVG:0.1948619306087494\n"
     ]
    }
   ],
   "source": [
    "print('AVG:{}'.format(np.mean(scores)))"
   ]
  },
  {
   "cell_type": "code",
   "execution_count": 25,
   "metadata": {},
   "outputs": [
    {
     "data": {
      "text/html": [
       "<div>\n",
       "<style scoped>\n",
       "    .dataframe tbody tr th:only-of-type {\n",
       "        vertical-align: middle;\n",
       "    }\n",
       "\n",
       "    .dataframe tbody tr th {\n",
       "        vertical-align: top;\n",
       "    }\n",
       "\n",
       "    .dataframe thead th {\n",
       "        text-align: right;\n",
       "    }\n",
       "</style>\n",
       "<table border=\"1\" class=\"dataframe\">\n",
       "  <thead>\n",
       "    <tr style=\"text-align: right;\">\n",
       "      <th></th>\n",
       "      <th>cv1</th>\n",
       "      <th>cv2</th>\n",
       "      <th>cv3</th>\n",
       "      <th>cv4</th>\n",
       "      <th>cv5</th>\n",
       "    </tr>\n",
       "  </thead>\n",
       "  <tbody>\n",
       "    <tr>\n",
       "      <th>MAE</th>\n",
       "      <td>0.193746</td>\n",
       "      <td>0.19544</td>\n",
       "      <td>0.195641</td>\n",
       "      <td>0.192899</td>\n",
       "      <td>0.196584</td>\n",
       "    </tr>\n",
       "  </tbody>\n",
       "</table>\n",
       "</div>"
      ],
      "text/plain": [
       "          cv1      cv2       cv3       cv4       cv5\n",
       "MAE  0.193746  0.19544  0.195641  0.192899  0.196584"
      ]
     },
     "execution_count": 25,
     "metadata": {},
     "output_type": "execute_result"
    }
   ],
   "source": [
    "scores = pd.DataFrame(scores.reshape(1, -1))\n",
    "scores.columns = ['cv' + str(x) for x in range(1, 6)]\n",
    "scores.index = ['MAE']\n",
    "scores"
   ]
  },
  {
   "cell_type": "code",
   "execution_count": 26,
   "metadata": {},
   "outputs": [],
   "source": [
    "##模拟真实业务情况\n",
    "##通过训练17年以前的数据来预测18年的数据\n",
    "import datetime\n",
    "sample_feature = sample_feature.reset_index(drop=True)\n",
    "\n",
    "split_point = len(sample_feature) // 5 * 4"
   ]
  },
  {
   "cell_type": "code",
   "execution_count": 27,
   "metadata": {},
   "outputs": [],
   "source": [
    "train = sample_feature.loc[:split_point].dropna()\n",
    "val = sample_feature.loc[split_point:].dropna()\n",
    "\n",
    "train_X = train[continuous_feature_names]\n",
    "\n",
    "train_y_ln = np.log(train['price'] + 1)\n",
    "val_X = val[continuous_feature_names]\n",
    "\n",
    "val_y_ln = np.log(val['price'] + 1)"
   ]
  },
  {
   "cell_type": "code",
   "execution_count": 28,
   "metadata": {},
   "outputs": [],
   "source": [
    "model = model.fit(train_X, train_y_ln)"
   ]
  },
  {
   "cell_type": "code",
   "execution_count": 29,
   "metadata": {},
   "outputs": [
    {
     "data": {
      "text/plain": [
       "0.19660032"
      ]
     },
     "execution_count": 29,
     "metadata": {},
     "output_type": "execute_result"
    }
   ],
   "source": [
    "mean_absolute_error(val_y_ln, model.predict(val_X))"
   ]
  },
  {
   "cell_type": "code",
   "execution_count": 30,
   "metadata": {},
   "outputs": [],
   "source": [
    "##绘制学习率曲线和验证曲线\n",
    "from sklearn.model_selection import learning_curve, validation_curve"
   ]
  },
  {
   "cell_type": "code",
   "execution_count": 31,
   "metadata": {},
   "outputs": [],
   "source": [
    "##多种模型比较\n",
    "from sklearn.linear_model import LogisticRegression\n",
    "from sklearn.linear_model import Lasso\n",
    "from sklearn.linear_model import Ridge\n",
    "\n",
    "from sklearn.linear_model import LinearRegression\n",
    "from sklearn.svm import SVC\n",
    "from sklearn.tree import DecisionTreeRegressor\n",
    "from sklearn.ensemble import RandomForestRegressor\n",
    "from sklearn.ensemble import GradientBoostingRegressor"
   ]
  },
  {
   "cell_type": "code",
   "execution_count": null,
   "metadata": {},
   "outputs": [
    {
     "name": "stdout",
     "output_type": "stream",
     "text": [
      "LogisticRegression is finished\n",
      "DecisionTreeRegressor is finished\n",
      "Lasso is finished\n",
      "Ridge is finished\n"
     ]
    }
   ],
   "source": [
    "models = [\n",
    "         LogisticRegression(),\n",
    "         DecisionTreeRegressor(),\n",
    "         Lasso(),\n",
    "         Ridge(),\n",
    "         SVC(),\n",
    "#          RandomForestRegressor(n_estimators=3000, max_depth=10),\n",
    "#          GradientBoostingRegressor(n_estimators=3000, max_depth=10),\n",
    "         LinearRegression()]\n",
    "\n",
    "result = dict()\n",
    "for model in models:\n",
    "    model_name = str(model).split('(')[0]\n",
    "    scores = cross_val_score(model, X=train_X, y=train_y_ln.astype('int'), verbose=0, cv=5, scoring=make_scorer(mean_absolute_error))\n",
    "    \n",
    "    result[model_name] = scores\n",
    "    \n",
    "    print(model_name + ' is finished')"
   ]
  },
  {
   "cell_type": "code",
   "execution_count": 42,
   "metadata": {},
   "outputs": [
    {
     "data": {
      "text/html": [
       "<div>\n",
       "<style scoped>\n",
       "    .dataframe tbody tr th:only-of-type {\n",
       "        vertical-align: middle;\n",
       "    }\n",
       "\n",
       "    .dataframe tbody tr th {\n",
       "        vertical-align: top;\n",
       "    }\n",
       "\n",
       "    .dataframe thead th {\n",
       "        text-align: right;\n",
       "    }\n",
       "</style>\n",
       "<table border=\"1\" class=\"dataframe\">\n",
       "  <thead>\n",
       "    <tr style=\"text-align: right;\">\n",
       "      <th></th>\n",
       "      <th>LogisticRegression</th>\n",
       "      <th>DecisionTreeRegressor</th>\n",
       "      <th>Lasso</th>\n",
       "      <th>Ridge</th>\n",
       "      <th>SVC</th>\n",
       "      <th>LinearRegression</th>\n",
       "    </tr>\n",
       "  </thead>\n",
       "  <tbody>\n",
       "    <tr>\n",
       "      <th>cv1</th>\n",
       "      <td>NaN</td>\n",
       "      <td>0.195576</td>\n",
       "      <td>0.374591</td>\n",
       "      <td>0.196862</td>\n",
       "      <td>NaN</td>\n",
       "      <td>0.374276</td>\n",
       "    </tr>\n",
       "    <tr>\n",
       "      <th>cv2</th>\n",
       "      <td>NaN</td>\n",
       "      <td>0.194010</td>\n",
       "      <td>0.373048</td>\n",
       "      <td>0.198569</td>\n",
       "      <td>NaN</td>\n",
       "      <td>0.373174</td>\n",
       "    </tr>\n",
       "    <tr>\n",
       "      <th>cv3</th>\n",
       "      <td>NaN</td>\n",
       "      <td>0.193957</td>\n",
       "      <td>0.375789</td>\n",
       "      <td>0.198904</td>\n",
       "      <td>NaN</td>\n",
       "      <td>0.375995</td>\n",
       "    </tr>\n",
       "    <tr>\n",
       "      <th>cv4</th>\n",
       "      <td>NaN</td>\n",
       "      <td>0.198699</td>\n",
       "      <td>0.370437</td>\n",
       "      <td>0.197027</td>\n",
       "      <td>NaN</td>\n",
       "      <td>0.370683</td>\n",
       "    </tr>\n",
       "    <tr>\n",
       "      <th>cv5</th>\n",
       "      <td>NaN</td>\n",
       "      <td>0.193871</td>\n",
       "      <td>0.369841</td>\n",
       "      <td>0.195950</td>\n",
       "      <td>NaN</td>\n",
       "      <td>0.370129</td>\n",
       "    </tr>\n",
       "  </tbody>\n",
       "</table>\n",
       "</div>"
      ],
      "text/plain": [
       "     LogisticRegression  DecisionTreeRegressor     Lasso     Ridge  SVC  \\\n",
       "cv1                 NaN               0.195576  0.374591  0.196862  NaN   \n",
       "cv2                 NaN               0.194010  0.373048  0.198569  NaN   \n",
       "cv3                 NaN               0.193957  0.375789  0.198904  NaN   \n",
       "cv4                 NaN               0.198699  0.370437  0.197027  NaN   \n",
       "cv5                 NaN               0.193871  0.369841  0.195950  NaN   \n",
       "\n",
       "     LinearRegression  \n",
       "cv1          0.374276  \n",
       "cv2          0.373174  \n",
       "cv3          0.375995  \n",
       "cv4          0.370683  \n",
       "cv5          0.370129  "
      ]
     },
     "execution_count": 42,
     "metadata": {},
     "output_type": "execute_result"
    }
   ],
   "source": [
    "result = pd.DataFrame(result)\n",
    "result.index = ['cv' + str(x) for x in range(1,6)]\n",
    "result"
   ]
  },
  {
   "cell_type": "code",
   "execution_count": null,
   "metadata": {},
   "outputs": [],
   "source": [
    "LR = SVC()\n",
    "m_model = LR.fit(train_X, train_y_ln.astype('int'))"
   ]
  },
  {
   "cell_type": "code",
   "execution_count": null,
   "metadata": {},
   "outputs": [],
   "source": [
    "train_y_ln"
   ]
  },
  {
   "cell_type": "code",
   "execution_count": 109,
   "metadata": {},
   "outputs": [],
   "source": [
    "test_data = data[data['train'] == 0]"
   ]
  },
  {
   "cell_type": "code",
   "execution_count": 44,
   "metadata": {},
   "outputs": [],
   "source": [
    "## LGB的参数集合：\n",
    "\n",
    "objective = ['regression', 'regression_l1', 'mape', 'huber', 'fair']\n",
    "\n",
    "num_leaves = [3,5,10,15,20,40, 55]\n",
    "max_depth = [3,5,10,15,20,40, 55]\n",
    "bagging_fraction = []\n",
    "feature_fraction = []\n",
    "drop_rate = []"
   ]
  },
  {
   "cell_type": "code",
   "execution_count": 47,
   "metadata": {},
   "outputs": [
    {
     "name": "stdout",
     "output_type": "stream",
     "text": [
      "{'max_depth': 20, 'n_estimators': 90}\n"
     ]
    }
   ],
   "source": [
    "from sklearn.model_selection import GridSearchCV\n",
    "\n",
    "params = {'n_estimators': range(10, 110, 10), 'max_depth': max_depth}\n",
    "\n",
    "model = RandomForestRegressor(n_jobs=-1)\n",
    "\n",
    "clf = GridSearchCV(model, params, cv=5)\n",
    "\n",
    "clf = clf.fit(train_X, train_y_ln)\n",
    "\n",
    "print(clf.best_params_)"
   ]
  },
  {
   "cell_type": "code",
   "execution_count": 49,
   "metadata": {},
   "outputs": [],
   "source": [
    "test_data = data[data['train'] == 0]"
   ]
  },
  {
   "cell_type": "code",
   "execution_count": 52,
   "metadata": {},
   "outputs": [
    {
     "data": {
      "text/plain": [
       "149037   NaN\n",
       "149038   NaN\n",
       "149039   NaN\n",
       "149040   NaN\n",
       "149041   NaN\n",
       "Name: price, dtype: float64"
      ]
     },
     "execution_count": 52,
     "metadata": {},
     "output_type": "execute_result"
    }
   ],
   "source": [
    "test_data.price[:5]"
   ]
  },
  {
   "cell_type": "code",
   "execution_count": 53,
   "metadata": {},
   "outputs": [],
   "source": [
    "test_data.drop(['price'], axis=1, inplace=True)"
   ]
  },
  {
   "cell_type": "code",
   "execution_count": 55,
   "metadata": {},
   "outputs": [],
   "source": [
    "RFR = RandomForestRegressor(n_estimators=90, n_jobs=-1, max_depth=20)"
   ]
  },
  {
   "cell_type": "code",
   "execution_count": 56,
   "metadata": {},
   "outputs": [],
   "source": [
    "\n",
    "model = RFR.fit(train_X, train_y_ln)"
   ]
  },
  {
   "cell_type": "code",
   "execution_count": 110,
   "metadata": {},
   "outputs": [
    {
     "data": {
      "text/plain": [
       "SaleID                     0\n",
       "name                       0\n",
       "model                      0\n",
       "brand                      0\n",
       "bodyType                1504\n",
       "fuelType                2924\n",
       "gearbox                 1968\n",
       "power                      0\n",
       "kilometer                  0\n",
       "notRepairedDamage       8069\n",
       "price                  50000\n",
       "v_0                        0\n",
       "v_1                        0\n",
       "v_2                        0\n",
       "v_3                        0\n",
       "v_4                        0\n",
       "v_5                        0\n",
       "v_6                        0\n",
       "v_7                        0\n",
       "v_8                        0\n",
       "v_9                        0\n",
       "v_10                       0\n",
       "v_11                       0\n",
       "v_12                       0\n",
       "v_13                       0\n",
       "v_14                       0\n",
       "train                      0\n",
       "usedTime                3736\n",
       "brand_amount               0\n",
       "brand_price_max            0\n",
       "brand_price_min            0\n",
       "brand_price_sum            0\n",
       "brand_price_std            0\n",
       "brand_price_average        0\n",
       "power_bin               5355\n",
       "dtype: int64"
      ]
     },
     "execution_count": 110,
     "metadata": {},
     "output_type": "execute_result"
    }
   ],
   "source": [
    "test_data.isnull().sum()"
   ]
  },
  {
   "cell_type": "code",
   "execution_count": 59,
   "metadata": {},
   "outputs": [],
   "source": [
    "test_data = test_data.dropna()"
   ]
  },
  {
   "cell_type": "code",
   "execution_count": 61,
   "metadata": {},
   "outputs": [
    {
     "data": {
      "text/plain": [
       "SaleID                 0\n",
       "name                   0\n",
       "model                  0\n",
       "brand                  0\n",
       "bodyType               0\n",
       "fuelType               0\n",
       "gearbox                0\n",
       "power                  0\n",
       "kilometer              0\n",
       "notRepairedDamage      0\n",
       "v_0                    0\n",
       "v_1                    0\n",
       "v_2                    0\n",
       "v_3                    0\n",
       "v_4                    0\n",
       "v_5                    0\n",
       "v_6                    0\n",
       "v_7                    0\n",
       "v_8                    0\n",
       "v_9                    0\n",
       "v_10                   0\n",
       "v_11                   0\n",
       "v_12                   0\n",
       "v_13                   0\n",
       "v_14                   0\n",
       "train                  0\n",
       "usedTime               0\n",
       "brand_amount           0\n",
       "brand_price_max        0\n",
       "brand_price_min        0\n",
       "brand_price_sum        0\n",
       "brand_price_std        0\n",
       "brand_price_average    0\n",
       "power_bin              0\n",
       "dtype: int64"
      ]
     },
     "execution_count": 61,
     "metadata": {},
     "output_type": "execute_result"
    }
   ],
   "source": [
    "test_data.isnull().sum()"
   ]
  },
  {
   "cell_type": "code",
   "execution_count": 65,
   "metadata": {},
   "outputs": [
    {
     "data": {
      "text/plain": [
       "30"
      ]
     },
     "execution_count": 65,
     "metadata": {},
     "output_type": "execute_result"
    }
   ],
   "source": [
    "len(train_X.columns)"
   ]
  },
  {
   "cell_type": "code",
   "execution_count": 66,
   "metadata": {},
   "outputs": [
    {
     "data": {
      "text/plain": [
       "34"
      ]
     },
     "execution_count": 66,
     "metadata": {},
     "output_type": "execute_result"
    }
   ],
   "source": [
    "len(test_data.columns)"
   ]
  },
  {
   "cell_type": "code",
   "execution_count": 67,
   "metadata": {},
   "outputs": [
    {
     "data": {
      "text/plain": [
       "Index(['bodyType', 'fuelType', 'gearbox', 'power', 'kilometer',\n",
       "       'notRepairedDamage', 'v_0', 'v_1', 'v_2', 'v_3', 'v_4', 'v_5', 'v_6',\n",
       "       'v_7', 'v_8', 'v_9', 'v_10', 'v_11', 'v_12', 'v_13', 'v_14', 'train',\n",
       "       'usedTime', 'brand_amount', 'brand_price_max', 'brand_price_min',\n",
       "       'brand_price_sum', 'brand_price_std', 'brand_price_average',\n",
       "       'power_bin'],\n",
       "      dtype='object')"
      ]
     },
     "execution_count": 67,
     "metadata": {},
     "output_type": "execute_result"
    }
   ],
   "source": [
    "train_X.columns"
   ]
  },
  {
   "cell_type": "code",
   "execution_count": 68,
   "metadata": {},
   "outputs": [
    {
     "data": {
      "text/plain": [
       "Index(['SaleID', 'name', 'model', 'brand', 'bodyType', 'fuelType', 'gearbox',\n",
       "       'power', 'kilometer', 'notRepairedDamage', 'v_0', 'v_1', 'v_2', 'v_3',\n",
       "       'v_4', 'v_5', 'v_6', 'v_7', 'v_8', 'v_9', 'v_10', 'v_11', 'v_12',\n",
       "       'v_13', 'v_14', 'train', 'usedTime', 'brand_amount', 'brand_price_max',\n",
       "       'brand_price_min', 'brand_price_sum', 'brand_price_std',\n",
       "       'brand_price_average', 'power_bin'],\n",
       "      dtype='object')"
      ]
     },
     "execution_count": 68,
     "metadata": {},
     "output_type": "execute_result"
    }
   ],
   "source": [
    "test_data.columns"
   ]
  },
  {
   "cell_type": "code",
   "execution_count": 117,
   "metadata": {},
   "outputs": [],
   "source": [
    "test_data_pred = test_data.drop(['SaleID', 'name', 'model', 'brand'], axis=1)"
   ]
  },
  {
   "cell_type": "code",
   "execution_count": 120,
   "metadata": {},
   "outputs": [],
   "source": [
    "test_data_pred.drop(['price'], axis=1, inplace=True)\n",
    "test_pred = model.predict(test_data_pred)"
   ]
  },
  {
   "cell_type": "code",
   "execution_count": 121,
   "metadata": {},
   "outputs": [
    {
     "data": {
      "text/plain": [
       "3.5576100746790567"
      ]
     },
     "execution_count": 121,
     "metadata": {},
     "output_type": "execute_result"
    }
   ],
   "source": [
    "test_pred.min()"
   ]
  },
  {
   "cell_type": "code",
   "execution_count": 73,
   "metadata": {},
   "outputs": [],
   "source": [
    "test_pred[test_pred <10] = 10"
   ]
  },
  {
   "cell_type": "code",
   "execution_count": 126,
   "metadata": {},
   "outputs": [],
   "source": [
    "sub = pd.DataFrame()\n",
    "sub['SaleID'] = test_data.SaleID\n",
    "sub['price'] = test_pred\n",
    "sub['price'] = sub.price.astype('int')\n",
    "sub.to_csv('./result.csv', index=False)"
   ]
  },
  {
   "cell_type": "code",
   "execution_count": 75,
   "metadata": {},
   "outputs": [
    {
     "data": {
      "text/plain": [
       "array([10., 10., 10., ..., 10., 10., 10.])"
      ]
     },
     "execution_count": 75,
     "metadata": {},
     "output_type": "execute_result"
    }
   ],
   "source": [
    "test_pred"
   ]
  },
  {
   "cell_type": "code",
   "execution_count": 122,
   "metadata": {},
   "outputs": [],
   "source": [
    "test_pred = np.power(np.e, test_pred)"
   ]
  },
  {
   "cell_type": "code",
   "execution_count": 123,
   "metadata": {},
   "outputs": [
    {
     "data": {
      "text/plain": [
       "76545.88304907498"
      ]
     },
     "execution_count": 123,
     "metadata": {},
     "output_type": "execute_result"
    }
   ],
   "source": [
    "test_pred.max()"
   ]
  },
  {
   "cell_type": "code",
   "execution_count": 85,
   "metadata": {},
   "outputs": [
    {
     "name": "stdout",
     "output_type": "stream",
     "text": [
      "<class 'pandas.core.frame.DataFrame'>\n",
      "Int64Index: 36334 entries, 149037 to 199035\n",
      "Data columns (total 2 columns):\n",
      " #   Column  Non-Null Count  Dtype  \n",
      "---  ------  --------------  -----  \n",
      " 0   SaleID  36334 non-null  int64  \n",
      " 1   price   36334 non-null  float64\n",
      "dtypes: float64(1), int64(1)\n",
      "memory usage: 851.6 KB\n"
     ]
    }
   ],
   "source": [
    "sub.info()"
   ]
  },
  {
   "cell_type": "code",
   "execution_count": 106,
   "metadata": {},
   "outputs": [],
   "source": [
    "# sub['price'] = sub.price.astype('int')\n",
    "sub.to_csv('./used_car_submit.csv', index=False)"
   ]
  },
  {
   "cell_type": "code",
   "execution_count": 89,
   "metadata": {},
   "outputs": [
    {
     "data": {
      "text/plain": [
       "37"
      ]
     },
     "execution_count": 89,
     "metadata": {},
     "output_type": "execute_result"
    }
   ],
   "source": [
    "sub.price.min()"
   ]
  },
  {
   "cell_type": "code",
   "execution_count": 90,
   "metadata": {},
   "outputs": [
    {
     "data": {
      "text/html": [
       "<div>\n",
       "<style scoped>\n",
       "    .dataframe tbody tr th:only-of-type {\n",
       "        vertical-align: middle;\n",
       "    }\n",
       "\n",
       "    .dataframe tbody tr th {\n",
       "        vertical-align: top;\n",
       "    }\n",
       "\n",
       "    .dataframe thead th {\n",
       "        text-align: right;\n",
       "    }\n",
       "</style>\n",
       "<table border=\"1\" class=\"dataframe\">\n",
       "  <thead>\n",
       "    <tr style=\"text-align: right;\">\n",
       "      <th></th>\n",
       "      <th>SaleID</th>\n",
       "      <th>price</th>\n",
       "    </tr>\n",
       "  </thead>\n",
       "  <tbody>\n",
       "    <tr>\n",
       "      <th>149037</th>\n",
       "      <td>200000</td>\n",
       "      <td>1268</td>\n",
       "    </tr>\n",
       "    <tr>\n",
       "      <th>149038</th>\n",
       "      <td>200001</td>\n",
       "      <td>1774</td>\n",
       "    </tr>\n",
       "    <tr>\n",
       "      <th>149040</th>\n",
       "      <td>200003</td>\n",
       "      <td>1016</td>\n",
       "    </tr>\n",
       "    <tr>\n",
       "      <th>149043</th>\n",
       "      <td>200006</td>\n",
       "      <td>361</td>\n",
       "    </tr>\n",
       "    <tr>\n",
       "      <th>149044</th>\n",
       "      <td>200007</td>\n",
       "      <td>3352</td>\n",
       "    </tr>\n",
       "    <tr>\n",
       "      <th>...</th>\n",
       "      <td>...</td>\n",
       "      <td>...</td>\n",
       "    </tr>\n",
       "    <tr>\n",
       "      <th>199030</th>\n",
       "      <td>249993</td>\n",
       "      <td>1497</td>\n",
       "    </tr>\n",
       "    <tr>\n",
       "      <th>199031</th>\n",
       "      <td>249994</td>\n",
       "      <td>8499</td>\n",
       "    </tr>\n",
       "    <tr>\n",
       "      <th>199033</th>\n",
       "      <td>249996</td>\n",
       "      <td>18497</td>\n",
       "    </tr>\n",
       "    <tr>\n",
       "      <th>199034</th>\n",
       "      <td>249997</td>\n",
       "      <td>5411</td>\n",
       "    </tr>\n",
       "    <tr>\n",
       "      <th>199035</th>\n",
       "      <td>249998</td>\n",
       "      <td>4843</td>\n",
       "    </tr>\n",
       "  </tbody>\n",
       "</table>\n",
       "<p>36334 rows × 2 columns</p>\n",
       "</div>"
      ],
      "text/plain": [
       "        SaleID  price\n",
       "149037  200000   1268\n",
       "149038  200001   1774\n",
       "149040  200003   1016\n",
       "149043  200006    361\n",
       "149044  200007   3352\n",
       "...        ...    ...\n",
       "199030  249993   1497\n",
       "199031  249994   8499\n",
       "199033  249996  18497\n",
       "199034  249997   5411\n",
       "199035  249998   4843\n",
       "\n",
       "[36334 rows x 2 columns]"
      ]
     },
     "execution_count": 90,
     "metadata": {},
     "output_type": "execute_result"
    }
   ],
   "source": [
    "sub"
   ]
  },
  {
   "cell_type": "code",
   "execution_count": 95,
   "metadata": {},
   "outputs": [],
   "source": [
    "test = pd.read_csv('tianchi/used_car_sample_submit.csv', sep=',')"
   ]
  },
  {
   "cell_type": "code",
   "execution_count": 96,
   "metadata": {},
   "outputs": [
    {
     "name": "stdout",
     "output_type": "stream",
     "text": [
      "<class 'pandas.core.frame.DataFrame'>\n",
      "RangeIndex: 50000 entries, 0 to 49999\n",
      "Data columns (total 2 columns):\n",
      " #   Column  Non-Null Count  Dtype\n",
      "---  ------  --------------  -----\n",
      " 0   SaleID  50000 non-null  int64\n",
      " 1   price   50000 non-null  int64\n",
      "dtypes: int64(2)\n",
      "memory usage: 781.4 KB\n"
     ]
    }
   ],
   "source": [
    "test.info()"
   ]
  },
  {
   "cell_type": "code",
   "execution_count": 97,
   "metadata": {},
   "outputs": [
    {
     "data": {
      "text/html": [
       "<div>\n",
       "<style scoped>\n",
       "    .dataframe tbody tr th:only-of-type {\n",
       "        vertical-align: middle;\n",
       "    }\n",
       "\n",
       "    .dataframe tbody tr th {\n",
       "        vertical-align: top;\n",
       "    }\n",
       "\n",
       "    .dataframe thead th {\n",
       "        text-align: right;\n",
       "    }\n",
       "</style>\n",
       "<table border=\"1\" class=\"dataframe\">\n",
       "  <thead>\n",
       "    <tr style=\"text-align: right;\">\n",
       "      <th></th>\n",
       "      <th>SaleID</th>\n",
       "      <th>price</th>\n",
       "    </tr>\n",
       "  </thead>\n",
       "  <tbody>\n",
       "    <tr>\n",
       "      <th>0</th>\n",
       "      <td>150000</td>\n",
       "      <td>0</td>\n",
       "    </tr>\n",
       "    <tr>\n",
       "      <th>1</th>\n",
       "      <td>150001</td>\n",
       "      <td>0</td>\n",
       "    </tr>\n",
       "    <tr>\n",
       "      <th>2</th>\n",
       "      <td>150002</td>\n",
       "      <td>0</td>\n",
       "    </tr>\n",
       "    <tr>\n",
       "      <th>3</th>\n",
       "      <td>150003</td>\n",
       "      <td>0</td>\n",
       "    </tr>\n",
       "    <tr>\n",
       "      <th>4</th>\n",
       "      <td>150004</td>\n",
       "      <td>0</td>\n",
       "    </tr>\n",
       "  </tbody>\n",
       "</table>\n",
       "</div>"
      ],
      "text/plain": [
       "   SaleID  price\n",
       "0  150000      0\n",
       "1  150001      0\n",
       "2  150002      0\n",
       "3  150003      0\n",
       "4  150004      0"
      ]
     },
     "execution_count": 97,
     "metadata": {},
     "output_type": "execute_result"
    }
   ],
   "source": [
    "test.head()"
   ]
  },
  {
   "cell_type": "code",
   "execution_count": 98,
   "metadata": {},
   "outputs": [
    {
     "name": "stdout",
     "output_type": "stream",
     "text": [
      "<class 'pandas.core.frame.DataFrame'>\n",
      "Int64Index: 36334 entries, 149037 to 199035\n",
      "Data columns (total 2 columns):\n",
      " #   Column  Non-Null Count  Dtype\n",
      "---  ------  --------------  -----\n",
      " 0   SaleID  36334 non-null  int64\n",
      " 1   price   36334 non-null  int64\n",
      "dtypes: int64(2)\n",
      "memory usage: 851.6 KB\n"
     ]
    }
   ],
   "source": [
    "sub.info()"
   ]
  },
  {
   "cell_type": "code",
   "execution_count": 99,
   "metadata": {},
   "outputs": [
    {
     "name": "stdout",
     "output_type": "stream",
     "text": [
      "<class 'pandas.core.frame.DataFrame'>\n",
      "Int64Index: 36334 entries, 149037 to 199035\n",
      "Data columns (total 34 columns):\n",
      " #   Column               Non-Null Count  Dtype  \n",
      "---  ------               --------------  -----  \n",
      " 0   SaleID               36334 non-null  int64  \n",
      " 1   name                 36334 non-null  int64  \n",
      " 2   model                36334 non-null  float64\n",
      " 3   brand                36334 non-null  int64  \n",
      " 4   bodyType             36334 non-null  float64\n",
      " 5   fuelType             36334 non-null  float64\n",
      " 6   gearbox              36334 non-null  float64\n",
      " 7   power                36334 non-null  int64  \n",
      " 8   kilometer            36334 non-null  float64\n",
      " 9   notRepairedDamage    36334 non-null  float64\n",
      " 10  v_0                  36334 non-null  float64\n",
      " 11  v_1                  36334 non-null  float64\n",
      " 12  v_2                  36334 non-null  float64\n",
      " 13  v_3                  36334 non-null  float64\n",
      " 14  v_4                  36334 non-null  float64\n",
      " 15  v_5                  36334 non-null  float64\n",
      " 16  v_6                  36334 non-null  float64\n",
      " 17  v_7                  36334 non-null  float64\n",
      " 18  v_8                  36334 non-null  float64\n",
      " 19  v_9                  36334 non-null  float64\n",
      " 20  v_10                 36334 non-null  float64\n",
      " 21  v_11                 36334 non-null  float64\n",
      " 22  v_12                 36334 non-null  float64\n",
      " 23  v_13                 36334 non-null  float64\n",
      " 24  v_14                 36334 non-null  float64\n",
      " 25  train                36334 non-null  int64  \n",
      " 26  usedTime             36334 non-null  float64\n",
      " 27  brand_amount         36334 non-null  float64\n",
      " 28  brand_price_max      36334 non-null  float64\n",
      " 29  brand_price_min      36334 non-null  float64\n",
      " 30  brand_price_sum      36334 non-null  float64\n",
      " 31  brand_price_std      36334 non-null  float64\n",
      " 32  brand_price_average  36334 non-null  float64\n",
      " 33  power_bin            36334 non-null  float64\n",
      "dtypes: float64(29), int64(5)\n",
      "memory usage: 9.7 MB\n"
     ]
    }
   ],
   "source": [
    "test_data.info()"
   ]
  },
  {
   "cell_type": "code",
   "execution_count": 103,
   "metadata": {},
   "outputs": [],
   "source": [
    "sub.reset_index(drop=True, inplace=True)"
   ]
  },
  {
   "cell_type": "code",
   "execution_count": 105,
   "metadata": {},
   "outputs": [
    {
     "name": "stdout",
     "output_type": "stream",
     "text": [
      "<class 'pandas.core.frame.DataFrame'>\n",
      "RangeIndex: 36334 entries, 0 to 36333\n",
      "Data columns (total 2 columns):\n",
      " #   Column  Non-Null Count  Dtype\n",
      "---  ------  --------------  -----\n",
      " 0   SaleID  36334 non-null  int64\n",
      " 1   price   36334 non-null  int64\n",
      "dtypes: int64(2)\n",
      "memory usage: 567.8 KB\n"
     ]
    }
   ],
   "source": [
    "sub.info()"
   ]
  },
  {
   "cell_type": "code",
   "execution_count": 107,
   "metadata": {},
   "outputs": [],
   "source": [
    "# sub['price'] = sub.price.astype('int')\n",
    "sub.to_csv('./used_car_submit.csv', index=0)"
   ]
  },
  {
   "cell_type": "code",
   "execution_count": 112,
   "metadata": {},
   "outputs": [],
   "source": [
    "test_data = test_data.fillna(-1)\n",
    "test_data.reset_index(inplace=True)"
   ]
  },
  {
   "cell_type": "code",
   "execution_count": 115,
   "metadata": {},
   "outputs": [
    {
     "data": {
      "text/html": [
       "<div>\n",
       "<style scoped>\n",
       "    .dataframe tbody tr th:only-of-type {\n",
       "        vertical-align: middle;\n",
       "    }\n",
       "\n",
       "    .dataframe tbody tr th {\n",
       "        vertical-align: top;\n",
       "    }\n",
       "\n",
       "    .dataframe thead th {\n",
       "        text-align: right;\n",
       "    }\n",
       "</style>\n",
       "<table border=\"1\" class=\"dataframe\">\n",
       "  <thead>\n",
       "    <tr style=\"text-align: right;\">\n",
       "      <th></th>\n",
       "      <th>SaleID</th>\n",
       "      <th>name</th>\n",
       "      <th>model</th>\n",
       "      <th>brand</th>\n",
       "      <th>bodyType</th>\n",
       "      <th>fuelType</th>\n",
       "      <th>gearbox</th>\n",
       "      <th>power</th>\n",
       "      <th>kilometer</th>\n",
       "      <th>notRepairedDamage</th>\n",
       "      <th>...</th>\n",
       "      <th>v_14</th>\n",
       "      <th>train</th>\n",
       "      <th>usedTime</th>\n",
       "      <th>brand_amount</th>\n",
       "      <th>brand_price_max</th>\n",
       "      <th>brand_price_min</th>\n",
       "      <th>brand_price_sum</th>\n",
       "      <th>brand_price_std</th>\n",
       "      <th>brand_price_average</th>\n",
       "      <th>power_bin</th>\n",
       "    </tr>\n",
       "  </thead>\n",
       "  <tbody>\n",
       "    <tr>\n",
       "      <th>0</th>\n",
       "      <td>200000</td>\n",
       "      <td>133777</td>\n",
       "      <td>67.0</td>\n",
       "      <td>0</td>\n",
       "      <td>1.0</td>\n",
       "      <td>0.0</td>\n",
       "      <td>0.0</td>\n",
       "      <td>101</td>\n",
       "      <td>15.0</td>\n",
       "      <td>0.0</td>\n",
       "      <td>...</td>\n",
       "      <td>0.803322</td>\n",
       "      <td>0</td>\n",
       "      <td>5790.0</td>\n",
       "      <td>31429.0</td>\n",
       "      <td>68500.0</td>\n",
       "      <td>13.0</td>\n",
       "      <td>173719698.0</td>\n",
       "      <td>6261.371627</td>\n",
       "      <td>5527.19</td>\n",
       "      <td>10.0</td>\n",
       "    </tr>\n",
       "    <tr>\n",
       "      <th>1</th>\n",
       "      <td>200001</td>\n",
       "      <td>61206</td>\n",
       "      <td>19.0</td>\n",
       "      <td>6</td>\n",
       "      <td>2.0</td>\n",
       "      <td>0.0</td>\n",
       "      <td>0.0</td>\n",
       "      <td>73</td>\n",
       "      <td>6.0</td>\n",
       "      <td>0.0</td>\n",
       "      <td>...</td>\n",
       "      <td>-0.200542</td>\n",
       "      <td>0</td>\n",
       "      <td>7698.0</td>\n",
       "      <td>10193.0</td>\n",
       "      <td>35990.0</td>\n",
       "      <td>13.0</td>\n",
       "      <td>36457518.0</td>\n",
       "      <td>4562.233331</td>\n",
       "      <td>3576.37</td>\n",
       "      <td>7.0</td>\n",
       "    </tr>\n",
       "    <tr>\n",
       "      <th>2</th>\n",
       "      <td>200002</td>\n",
       "      <td>67829</td>\n",
       "      <td>5.0</td>\n",
       "      <td>5</td>\n",
       "      <td>4.0</td>\n",
       "      <td>0.0</td>\n",
       "      <td>0.0</td>\n",
       "      <td>120</td>\n",
       "      <td>5.0</td>\n",
       "      <td>-1.0</td>\n",
       "      <td>...</td>\n",
       "      <td>1.027173</td>\n",
       "      <td>0</td>\n",
       "      <td>2468.0</td>\n",
       "      <td>4662.0</td>\n",
       "      <td>31500.0</td>\n",
       "      <td>20.0</td>\n",
       "      <td>15414322.0</td>\n",
       "      <td>3344.689763</td>\n",
       "      <td>3305.67</td>\n",
       "      <td>11.0</td>\n",
       "    </tr>\n",
       "    <tr>\n",
       "      <th>3</th>\n",
       "      <td>200003</td>\n",
       "      <td>8892</td>\n",
       "      <td>22.0</td>\n",
       "      <td>9</td>\n",
       "      <td>1.0</td>\n",
       "      <td>0.0</td>\n",
       "      <td>0.0</td>\n",
       "      <td>58</td>\n",
       "      <td>15.0</td>\n",
       "      <td>0.0</td>\n",
       "      <td>...</td>\n",
       "      <td>0.461610</td>\n",
       "      <td>0</td>\n",
       "      <td>5035.0</td>\n",
       "      <td>7299.0</td>\n",
       "      <td>68530.0</td>\n",
       "      <td>50.0</td>\n",
       "      <td>17805271.0</td>\n",
       "      <td>2975.342884</td>\n",
       "      <td>2439.08</td>\n",
       "      <td>5.0</td>\n",
       "    </tr>\n",
       "    <tr>\n",
       "      <th>4</th>\n",
       "      <td>200004</td>\n",
       "      <td>76998</td>\n",
       "      <td>46.0</td>\n",
       "      <td>6</td>\n",
       "      <td>0.0</td>\n",
       "      <td>-1.0</td>\n",
       "      <td>0.0</td>\n",
       "      <td>116</td>\n",
       "      <td>15.0</td>\n",
       "      <td>0.0</td>\n",
       "      <td>...</td>\n",
       "      <td>0.451014</td>\n",
       "      <td>0</td>\n",
       "      <td>4754.0</td>\n",
       "      <td>10193.0</td>\n",
       "      <td>35990.0</td>\n",
       "      <td>13.0</td>\n",
       "      <td>36457518.0</td>\n",
       "      <td>4562.233331</td>\n",
       "      <td>3576.37</td>\n",
       "      <td>11.0</td>\n",
       "    </tr>\n",
       "  </tbody>\n",
       "</table>\n",
       "<p>5 rows × 35 columns</p>\n",
       "</div>"
      ],
      "text/plain": [
       "   SaleID    name  model  brand  bodyType  fuelType  gearbox  power  \\\n",
       "0  200000  133777   67.0      0       1.0       0.0      0.0    101   \n",
       "1  200001   61206   19.0      6       2.0       0.0      0.0     73   \n",
       "2  200002   67829    5.0      5       4.0       0.0      0.0    120   \n",
       "3  200003    8892   22.0      9       1.0       0.0      0.0     58   \n",
       "4  200004   76998   46.0      6       0.0      -1.0      0.0    116   \n",
       "\n",
       "   kilometer  notRepairedDamage  ...      v_14  train  usedTime  brand_amount  \\\n",
       "0       15.0                0.0  ...  0.803322      0    5790.0       31429.0   \n",
       "1        6.0                0.0  ... -0.200542      0    7698.0       10193.0   \n",
       "2        5.0               -1.0  ...  1.027173      0    2468.0        4662.0   \n",
       "3       15.0                0.0  ...  0.461610      0    5035.0        7299.0   \n",
       "4       15.0                0.0  ...  0.451014      0    4754.0       10193.0   \n",
       "\n",
       "   brand_price_max  brand_price_min  brand_price_sum  brand_price_std  \\\n",
       "0          68500.0             13.0      173719698.0      6261.371627   \n",
       "1          35990.0             13.0       36457518.0      4562.233331   \n",
       "2          31500.0             20.0       15414322.0      3344.689763   \n",
       "3          68530.0             50.0       17805271.0      2975.342884   \n",
       "4          35990.0             13.0       36457518.0      4562.233331   \n",
       "\n",
       "   brand_price_average  power_bin  \n",
       "0              5527.19       10.0  \n",
       "1              3576.37        7.0  \n",
       "2              3305.67       11.0  \n",
       "3              2439.08        5.0  \n",
       "4              3576.37       11.0  \n",
       "\n",
       "[5 rows x 35 columns]"
      ]
     },
     "execution_count": 115,
     "metadata": {},
     "output_type": "execute_result"
    }
   ],
   "source": [
    "test_data.head()"
   ]
  },
  {
   "cell_type": "code",
   "execution_count": 114,
   "metadata": {},
   "outputs": [],
   "source": [
    "test_data.drop(['index'], axis=1, inplace=True)"
   ]
  },
  {
   "cell_type": "code",
   "execution_count": 116,
   "metadata": {},
   "outputs": [
    {
     "data": {
      "text/plain": [
       "SaleID                 0\n",
       "name                   0\n",
       "model                  0\n",
       "brand                  0\n",
       "bodyType               0\n",
       "fuelType               0\n",
       "gearbox                0\n",
       "power                  0\n",
       "kilometer              0\n",
       "notRepairedDamage      0\n",
       "price                  0\n",
       "v_0                    0\n",
       "v_1                    0\n",
       "v_2                    0\n",
       "v_3                    0\n",
       "v_4                    0\n",
       "v_5                    0\n",
       "v_6                    0\n",
       "v_7                    0\n",
       "v_8                    0\n",
       "v_9                    0\n",
       "v_10                   0\n",
       "v_11                   0\n",
       "v_12                   0\n",
       "v_13                   0\n",
       "v_14                   0\n",
       "train                  0\n",
       "usedTime               0\n",
       "brand_amount           0\n",
       "brand_price_max        0\n",
       "brand_price_min        0\n",
       "brand_price_sum        0\n",
       "brand_price_std        0\n",
       "brand_price_average    0\n",
       "power_bin              0\n",
       "dtype: int64"
      ]
     },
     "execution_count": 116,
     "metadata": {},
     "output_type": "execute_result"
    }
   ],
   "source": [
    "test_data.isnull().sum()"
   ]
  },
  {
   "cell_type": "code",
   "execution_count": 125,
   "metadata": {},
   "outputs": [
    {
     "ename": "TypeError",
     "evalue": "type numpy.ndarray doesn't define __round__ method",
     "output_type": "error",
     "traceback": [
      "\u001b[0;31m---------------------------------------------------------------------------\u001b[0m",
      "\u001b[0;31mTypeError\u001b[0m                                 Traceback (most recent call last)",
      "\u001b[0;32m<ipython-input-125-8a8f2e183ddc>\u001b[0m in \u001b[0;36m<module>\u001b[0;34m\u001b[0m\n\u001b[0;32m----> 1\u001b[0;31m \u001b[0mround\u001b[0m\u001b[0;34m(\u001b[0m\u001b[0mtest_pred\u001b[0m\u001b[0;34m)\u001b[0m\u001b[0;34m\u001b[0m\u001b[0;34m\u001b[0m\u001b[0m\n\u001b[0m",
      "\u001b[0;31mTypeError\u001b[0m: type numpy.ndarray doesn't define __round__ method"
     ]
    }
   ],
   "source": []
  },
  {
   "cell_type": "code",
   "execution_count": null,
   "metadata": {},
   "outputs": [],
   "source": []
  }
 ],
 "metadata": {
  "kernelspec": {
   "display_name": "Python 3",
   "language": "python",
   "name": "python3"
  },
  "language_info": {
   "codemirror_mode": {
    "name": "ipython",
    "version": 3
   },
   "file_extension": ".py",
   "mimetype": "text/x-python",
   "name": "python",
   "nbconvert_exporter": "python",
   "pygments_lexer": "ipython3",
   "version": "3.7.6"
  }
 },
 "nbformat": 4,
 "nbformat_minor": 4
}
